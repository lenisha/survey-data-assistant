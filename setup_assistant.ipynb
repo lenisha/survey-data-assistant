{
 "cells": [
  {
   "cell_type": "code",
   "execution_count": 3,
   "metadata": {},
   "outputs": [
    {
     "name": "stdout",
     "output_type": "stream",
     "text": [
      "OPENAI_API_KEY 89694c2ed8914515befbf5c588a80610\n",
      "OPENAI_API_BASE https://openaiaccelerator.openai.azure.com/\n",
      "OPENAI_API_VERSION 2024-02-15-preview\n",
      "{'id': 'asst_RIJMzT9SqoWMms4AJviJSOC7', 'created_at': 1717047918, 'description': None, 'instructions': \"\\nYou are a helpful assistant that helps the user analyze survey data.\\n\\nFirst, make a plan of how you will use the tools to solve the user's task and communicated\\nthat plan to the user with the first response. Then execute the plan making sure to communicate\\nthe required information between tools since tools only see the information passed to them;\\n\\nOnly use the tools provided in the tools list -- don't make up tools!!\\nIf you are not getting the right information from a tool, make sure to ask the user for clarification. \\nDo not just return the wrong information. Do not make up information.\\n\\nAnything that would benefit from a tabular presentation should be returned as markup table.\\n\", 'metadata': {}, 'model': 'gpt-4o', 'name': 'Survey Assistant', 'object': 'assistant', 'tools': [{'type': 'code_interpreter'}], 'response_format': 'auto', 'temperature': 1.0, 'tool_resources': None, 'top_p': 1.0, 'file_ids': []}\n",
      "Assistant created with id asst_RIJMzT9SqoWMms4AJviJSOC7\n",
      "add the following to your .env file\n",
      "OPENAI_ASSISTANT_ID=\"asst_RIJMzT9SqoWMms4AJviJSOC7\"\n"
     ]
    }
   ],
   "source": [
    "# this script creates an assistant with a code interpreter and a function tool \n",
    "# to do data analytics on sales data.\n",
    "\n",
    "import json, yaml\n",
    "from dotenv import load_dotenv\n",
    "from openai import AzureOpenAI\n",
    "import os\n",
    "\n",
    "load_dotenv(override=True)\n",
    "\n",
    "def show_json(obj):\n",
    "    print(json.loads(obj.model_dump_json()))\n",
    "\n",
    "def show_yaml(obj):\n",
    "    print(yaml.dump(json.loads(obj.model_dump_json()), indent=4))\n",
    "\n",
    "print(\"OPENAI_API_KEY\", os.getenv(\"OPENAI_API_KEY\"))\n",
    "print(\"OPENAI_API_BASE\", os.getenv(\"OPENAI_API_BASE\"))\n",
    "print(\"OPENAI_API_VERSION\", os.getenv(\"OPENAI_API_VERSION\"))\n",
    "client  = AzureOpenAI(\n",
    "    api_key = os.getenv(\"OPENAI_API_KEY\"),\n",
    "    azure_endpoint = os.getenv(\"OPENAI_API_BASE\"),\n",
    "    api_version = os.getenv(\"OPENAI_API_VERSION\")\n",
    ")\n",
    "\n",
    "tools = [\n",
    "    {\n",
    "        \"type\": \"code_interpreter\"\n",
    "    }\n",
    "]\n",
    "\n",
    "instructions=\"\"\"\n",
    "You are a helpful assistant that helps the user analyze survey data.\n",
    "\n",
    "First, make a plan of how you will use the tools to solve the user's task and communicated\n",
    "that plan to the user with the first response. Then execute the plan making sure to communicate\n",
    "the required information between tools since tools only see the information passed to them;\n",
    "\n",
    "Only use the tools provided in the tools list -- don't make up tools!!\n",
    "If you are not getting the right information from a tool, make sure to ask the user for clarification. \n",
    "Do not just return the wrong information. Do not make up information.\n",
    "\n",
    "Anything that would benefit from a tabular presentation should be returned as markup table.\n",
    "\"\"\"\n",
    "\n",
    "assistant = client.beta.assistants.create(\n",
    "    name=\"Survey Assistant\",\n",
    "    instructions=instructions,\n",
    "    model=os.environ[\"OPENAI_ASSISTANT_MODEL\"],\n",
    "    tools=tools\n",
    ")\n",
    "show_json(assistant)\n",
    "\n",
    "print(\"Assistant created with id\", assistant.id)\n",
    "print(\"add the following to your .env file\")\n",
    "print(f'OPENAI_ASSISTANT_ID=\"{assistant.id}\"')"
   ]
  }
 ],
 "metadata": {
  "kernelspec": {
   "display_name": "Python 3",
   "language": "python",
   "name": "python3"
  },
  "language_info": {
   "codemirror_mode": {
    "name": "ipython",
    "version": 3
   },
   "file_extension": ".py",
   "mimetype": "text/x-python",
   "name": "python",
   "nbconvert_exporter": "python",
   "pygments_lexer": "ipython3",
   "version": "3.10.14"
  }
 },
 "nbformat": 4,
 "nbformat_minor": 2
}
