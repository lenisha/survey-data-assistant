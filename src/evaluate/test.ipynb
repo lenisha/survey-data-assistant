{
 "cells": [
  {
   "cell_type": "code",
   "execution_count": 49,
   "metadata": {},
   "outputs": [],
   "source": [
    "import json\n",
    "with open('response.json') as f:\n",
    "    data = json.load(f)\n",
    "    "
   ]
  },
  {
   "cell_type": "code",
   "execution_count": 50,
   "metadata": {},
   "outputs": [
    {
     "name": "stdout",
     "output_type": "stream",
     "text": [
      "outputs.data\n",
      "outputs.error\n",
      "outputs.query\n",
      "outputs.execution_time\n",
      "inputs.question\n",
      "inputs.ground_truth_query\n",
      "outputs.execution_time.seconds\n",
      "outputs.error.error\n",
      "outputs.sql_similarity.score\n",
      "outputs.sql_similarity.explanation\n",
      "line_number\n"
     ]
    }
   ],
   "source": [
    "import pandas as pd\n",
    "pd.set_option('display.max_colwidth', None)\n",
    "df = pd.DataFrame(data[\"rows\"])\n",
    "for field in df:\n",
    "    print(field)\n",
    "    \n",
    "df = df[[\"outputs.query\", \"inputs.question\", \"inputs.ground_truth_query\", \"outputs.sql_similarity.score\", \"outputs.sql_similarity.explanation\"]]\n",
    "\n",
    "df[\"better_query\"] = None\n",
    "df[\"better_query\"] = df[\"better_query\"].astype(str)\n",
    "\n",
    "import os\n",
    "def save_df(df):\n",
    "    index = 1\n",
    "    while True:\n",
    "        file_name = f\"response_with_better_query_{str(index).zfill(3)}.jsonl\"\n",
    "        if not os.path.exists(file_name):\n",
    "            break\n",
    "        index += 1\n",
    "    # save the dataframe to a jsonl file\n",
    "    df.to_json(file_name, orient=\"records\", lines=True)\n",
    "    print(f\"saved to {file_name}\")"
   ]
  },
  {
   "cell_type": "code",
   "execution_count": 52,
   "metadata": {},
   "outputs": [
    {
     "data": {
      "application/vnd.jupyter.widget-view+json": {
       "model_id": "7ed68f534c1947cc8a2558028e9203a0",
       "version_major": 2,
       "version_minor": 0
      },
      "text/plain": [
       "HBox(children=(Button(description='Previous', style=ButtonStyle()), Button(description='Next', style=ButtonSty…"
      ]
     },
     "metadata": {},
     "output_type": "display_data"
    },
    {
     "data": {
      "application/vnd.jupyter.widget-view+json": {
       "model_id": "af749838314c441487b215886e774da6",
       "version_major": 2,
       "version_minor": 0
      },
      "text/plain": [
       "HTML(value='')"
      ]
     },
     "metadata": {},
     "output_type": "display_data"
    },
    {
     "data": {
      "application/vnd.jupyter.widget-view+json": {
       "model_id": "1314212e07ca4f00ae61e5928bc47d26",
       "version_major": 2,
       "version_minor": 0
      },
      "text/plain": [
       "HTML(value='')"
      ]
     },
     "metadata": {},
     "output_type": "display_data"
    },
    {
     "data": {
      "application/vnd.jupyter.widget-view+json": {
       "model_id": "a4bc6c0a3d8548e0899beffddc287a81",
       "version_major": 2,
       "version_minor": 0
      },
      "text/plain": [
       "HTML(value='')"
      ]
     },
     "metadata": {},
     "output_type": "display_data"
    },
    {
     "data": {
      "application/vnd.jupyter.widget-view+json": {
       "model_id": "ba2a1247e8ad4e93ac5eb0410c316750",
       "version_major": 2,
       "version_minor": 0
      },
      "text/plain": [
       "HTML(value='')"
      ]
     },
     "metadata": {},
     "output_type": "display_data"
    },
    {
     "data": {
      "application/vnd.jupyter.widget-view+json": {
       "model_id": "afa9f2b2bb4946bbad1d818cc224e4b7",
       "version_major": 2,
       "version_minor": 0
      },
      "text/plain": [
       "HTML(value='')"
      ]
     },
     "metadata": {},
     "output_type": "display_data"
    },
    {
     "data": {
      "application/vnd.jupyter.widget-view+json": {
       "model_id": "efd32b0dd96b4a6f9aed0eee89dd4c0f",
       "version_major": 2,
       "version_minor": 0
      },
      "text/plain": [
       "RadioButtons(description='Better:', options=('outputs.query', 'inputs.ground_truth_query', 'None'), value='out…"
      ]
     },
     "metadata": {},
     "output_type": "display_data"
    },
    {
     "data": {
      "application/vnd.jupyter.widget-view+json": {
       "model_id": "65c77fde8ac64dbf9186c05939827665",
       "version_major": 2,
       "version_minor": 0
      },
      "text/plain": [
       "Button(description='Save', style=ButtonStyle())"
      ]
     },
     "metadata": {},
     "output_type": "display_data"
    },
    {
     "name": "stdout",
     "output_type": "stream",
     "text": [
      "saved to response_with_better_query_006.jsonl\n",
      "saved to response_with_better_query_007.jsonl\n",
      "saved to response_with_better_query_008.jsonl\n",
      "saved to response_with_better_query_009.jsonl\n"
     ]
    }
   ],
   "source": [
    "import ipywidgets as widgets\n",
    "from IPython.display import display, HTML\n",
    "import pandas as pd\n",
    "\n",
    "# Create widgets\n",
    "record_number = widgets.HTML()\n",
    "prev_button = widgets.Button(description=\"Previous\")\n",
    "next_button = widgets.Button(description=\"Next\")\n",
    "user_question = widgets.HTML()\n",
    "output_query = widgets.HTML()\n",
    "ground_truth_query = widgets.HTML()\n",
    "sql_similarity_score = widgets.HTML()\n",
    "sql_similarity_explanation = widgets.HTML()\n",
    "user_input = widgets.RadioButtons(options=['outputs.query', 'inputs.ground_truth_query', 'None'], description='Better:')\n",
    "save_button = widgets.Button(description=\"Save\")\n",
    "\n",
    "# Display widgets\n",
    "display(widgets.HBox([prev_button, next_button, record_number]))\n",
    "display(user_question, output_query, ground_truth_query, sql_similarity_score, sql_similarity_explanation, user_input, save_button)\n",
    "\n",
    "# Initialize index\n",
    "index = 0\n",
    "\n",
    "# Function to update widgets\n",
    "def update_widgets(index):\n",
    "    user_question.value = f\"<div style='word-wrap: break-word;'>{df.loc[index, 'inputs.question']}</div>\"\n",
    "    output_query.value = f\"<div style='word-wrap: break-word;'>{df.loc[index, 'outputs.query']}</div>\"\n",
    "    ground_truth_query.value = f\"<div style='word-wrap: break-word;'>{df.loc[index, 'inputs.ground_truth_query']}</div>\"\n",
    "    sql_similarity_score.value = f\"<div style='word-wrap: break-word;'>{df.loc[index, 'outputs.sql_similarity.score']}</div>\"\n",
    "    sql_similarity_explanation.value = f\"<div style='word-wrap: break-word;'>{df.loc[index, 'outputs.sql_similarity.explanation']}</div>\"\n",
    "    user_input.value = df.loc[index, 'better_query'] if 'better_query' in df.columns and pd.notna(df.loc[index, 'better_query']) else None\n",
    "    record_number.value = f\"Record: {index+1}/{len(df)}\"\n",
    "\n",
    "# Function to handle button clicks\n",
    "def on_next_button_clicked(b):\n",
    "    global index\n",
    "    df.loc[index, 'better_query'] = user_input.value\n",
    "    index = min(index + 1, len(df) - 1)\n",
    "    update_widgets(index)\n",
    "\n",
    "def on_prev_button_clicked(b):\n",
    "    global index\n",
    "    df.loc[index, 'better_query'] = user_input.value\n",
    "    index = max(index - 1, 0)\n",
    "    update_widgets(index)\n",
    "\n",
    "def on_save_button_clicked(b):\n",
    "    save_df(df)\n",
    "\n",
    "# Attach the function to the button\n",
    "next_button.on_click(on_next_button_clicked)\n",
    "prev_button.on_click(on_prev_button_clicked)\n",
    "save_button.on_click(on_save_button_clicked)\n",
    "\n",
    "# Initialize widgets\n",
    "update_widgets(index)"
   ]
  },
  {
   "cell_type": "code",
   "execution_count": 53,
   "metadata": {},
   "outputs": [],
   "source": [
    "#show rows of df where better_query is not 'outputs.query'\n",
    "df[df[\"better_query\"] != \"outputs.query\"]\n",
    "# set fiel ground_truth_query to whaterver is better_query says (data.ground_truth_query or outputs.query)\n",
    "df[\"ground_truth_query\"] = None\n",
    "# set question to data.question\n",
    "df[\"question\"] = df[\"inputs.question\"]\n",
    "for index, row in df.iterrows():\n",
    "    if row[\"better_query\"] == \"outputs.query\":\n",
    "        df.at[index, \"ground_truth_query\"] = row[\"outputs.query\"]\n",
    "    else:\n",
    "        df.at[index, \"ground_truth_query\"] = row[\"inputs.ground_truth_query\"]\n",
    "\n",
    "\n"
   ]
  },
  {
   "cell_type": "code",
   "execution_count": 55,
   "metadata": {},
   "outputs": [
    {
     "name": "stdout",
     "output_type": "stream",
     "text": [
      "saved to response_with_better_query_001.jsonl\n"
     ]
    }
   ],
   "source": [
    "save_df(df[[\"question\", \"ground_truth_query\"]])"
   ]
  },
  {
   "cell_type": "code",
   "execution_count": null,
   "metadata": {},
   "outputs": [],
   "source": []
  }
 ],
 "metadata": {
  "kernelspec": {
   "display_name": "assistant-eval2",
   "language": "python",
   "name": "python3"
  },
  "language_info": {
   "codemirror_mode": {
    "name": "ipython",
    "version": 3
   },
   "file_extension": ".py",
   "mimetype": "text/x-python",
   "name": "python",
   "nbconvert_exporter": "python",
   "pygments_lexer": "ipython3",
   "version": "3.11.0"
  }
 },
 "nbformat": 4,
 "nbformat_minor": 2
}
